{
  "nbformat": 4,
  "nbformat_minor": 0,
  "metadata": {
    "colab": {
      "provenance": []
    },
    "kernelspec": {
      "name": "python3",
      "display_name": "Python 3"
    },
    "language_info": {
      "name": "python"
    }
  },
  "cells": [
    {
      "cell_type": "code",
      "source": [
        "import numpy as np\n",
        "import matplotlib.pyplot as plt\n",
        "import pandas as pd"
      ],
      "metadata": {
        "id": "oPnMrJgGxMit"
      },
      "execution_count": 2,
      "outputs": []
    },
    {
      "cell_type": "code",
      "source": [
        "dataset = pd.read_csv('Marketing_Data.csv')\n",
        "X = dataset.iloc[:, :-1].values\n",
        "y = dataset.iloc[:, -1].values\n",
        "print(X)"
      ],
      "metadata": {
        "colab": {
          "base_uri": "https://localhost:8080/"
        },
        "id": "j7362zR9xoOR",
        "outputId": "b81ceee6-98e5-4bde-aec7-1d86e23b042b"
      },
      "execution_count": 3,
      "outputs": [
        {
          "output_type": "stream",
          "name": "stdout",
          "text": [
            "[[ 84.72  19.2   48.96]\n",
            " [351.48  33.96  51.84]\n",
            " [135.48  20.88  46.32]\n",
            " [116.64   1.8   36.  ]\n",
            " [318.72  24.     0.36]\n",
            " [114.84   1.68   8.88]\n",
            " [348.84   4.92  10.2 ]\n",
            " [320.28  52.56   6.  ]\n",
            " [ 89.64  59.28  54.84]\n",
            " [ 51.72  32.04  42.12]\n",
            " [273.6   45.24  38.4 ]\n",
            " [243.    26.76  37.92]\n",
            " [212.4   40.08  46.44]\n",
            " [352.32  33.24   2.16]\n",
            " [248.28  10.08  31.68]\n",
            " [ 30.12  30.84  51.96]\n",
            " [210.12  27.    37.8 ]\n",
            " [107.64  11.88  42.84]\n",
            " [287.88  49.8   22.2 ]\n",
            " [272.64  18.96  59.88]\n",
            " [ 80.28  14.04  44.16]\n",
            " [239.76   3.72  41.52]\n",
            " [120.48  11.52   4.32]\n",
            " [259.68  50.04  47.52]\n",
            " [219.12  55.44  70.44]\n",
            " [315.24  34.56  19.08]\n",
            " [238.68  59.28  72.  ]\n",
            " [  8.76  33.72  49.68]\n",
            " [163.44  23.04  19.92]\n",
            " [252.96  59.52  45.24]\n",
            " [252.84  35.4   11.16]\n",
            " [ 64.2    2.4   25.68]\n",
            " [313.56  51.24  65.64]\n",
            " [287.16  18.6   32.76]\n",
            " [123.24  35.52  10.08]\n",
            " [157.32  51.36  34.68]\n",
            " [ 82.8   11.16   1.08]\n",
            " [ 37.8   29.52   2.64]\n",
            " [167.16  17.4   12.24]\n",
            " [284.88  33.    13.2 ]\n",
            " [260.16  52.68  32.64]\n",
            " [238.92  36.72  46.44]\n",
            " [131.76  17.16  38.04]\n",
            " [ 32.16  39.6   23.16]\n",
            " [155.28   6.84  37.56]\n",
            " [256.08  29.52  15.72]\n",
            " [ 20.28  52.44 107.28]\n",
            " [ 33.     1.92  24.84]\n",
            " [144.6   34.2   17.04]\n",
            " [  6.48  35.88  11.28]\n",
            " [139.2    9.24  27.72]\n",
            " [ 91.68  32.04  26.76]\n",
            " [287.76   4.92  44.28]\n",
            " [ 90.36  24.36  39.  ]\n",
            " [ 82.08  53.4   42.72]\n",
            " [256.2   51.6   40.56]\n",
            " [231.84  22.08  78.84]\n",
            " [ 91.56  33.    19.2 ]\n",
            " [132.84  48.72  75.84]\n",
            " [105.96  30.6   88.08]\n",
            " [131.76  57.36  61.68]\n",
            " [161.16   5.88  11.16]\n",
            " [ 34.32   1.8   39.6 ]\n",
            " [261.24  40.2   70.8 ]\n",
            " [301.08  43.8   86.76]\n",
            " [128.88  16.8   13.08]\n",
            " [195.96  37.92  63.48]\n",
            " [237.12   4.2    7.08]\n",
            " [221.88  25.2   26.4 ]\n",
            " [347.64  50.76  61.44]\n",
            " [162.24  50.04  55.08]\n",
            " [266.88   5.16  59.76]\n",
            " [355.68  43.56 121.08]\n",
            " [336.24  12.12  25.68]\n",
            " [225.48  20.64  21.48]\n",
            " [285.84  41.16   6.36]\n",
            " [165.48  55.68  70.8 ]\n",
            " [ 30.    13.2   35.64]\n",
            " [108.48   0.36  27.84]\n",
            " [ 15.72   0.48  30.72]\n",
            " [306.48  32.28   6.6 ]\n",
            " [270.96   9.84  67.8 ]\n",
            " [290.04  45.6   27.84]\n",
            " [210.84  18.48   2.88]\n",
            " [251.52  24.72  12.84]\n",
            " [ 93.84  56.16  41.4 ]\n",
            " [ 90.12  42.    63.24]\n",
            " [167.04  17.16  30.72]\n",
            " [ 91.68   0.96  17.76]\n",
            " [150.84  44.28  95.04]\n",
            " [ 23.28  19.2   26.76]\n",
            " [169.56  32.16  55.44]\n",
            " [ 22.56  26.04  60.48]\n",
            " [268.8    2.88  18.72]\n",
            " [147.72  41.52  14.88]\n",
            " [275.4   38.76  89.04]\n",
            " [104.64  14.16  31.08]\n",
            " [  9.36  46.68  60.72]\n",
            " [ 96.24   0.    11.04]\n",
            " [264.36  58.8    3.84]\n",
            " [ 71.52  14.4   51.72]\n",
            " [  0.84  47.52  10.44]\n",
            " [318.24   3.48  51.6 ]\n",
            " [ 10.08  32.64   2.52]\n",
            " [263.76  40.2   54.12]\n",
            " [ 44.28  46.32  78.72]\n",
            " [ 57.96  56.4   10.2 ]\n",
            " [ 30.72  46.8   11.16]\n",
            " [328.44  34.68  71.64]\n",
            " [ 51.6   31.08  24.6 ]\n",
            " [221.88  52.68   2.04]\n",
            " [ 88.08  20.4   15.48]\n",
            " [232.44  42.48  90.72]\n",
            " [264.6   39.84  45.48]\n",
            " [125.52   6.84  41.28]\n",
            " [115.44  17.76  46.68]\n",
            " [168.36   2.28  10.8 ]\n",
            " [288.12   8.76  10.44]\n",
            " [291.84  58.8   53.16]\n",
            " [ 45.6   48.36  14.28]\n",
            " [ 53.64  30.96  24.72]\n",
            " [336.84  16.68  44.4 ]\n",
            " [145.2   10.08  58.44]\n",
            " [237.12  27.96  17.04]\n",
            " [205.56  47.64  45.24]\n",
            " [225.36  25.32  11.4 ]\n",
            " [  4.92  13.92   6.84]\n",
            " [112.68  52.2   60.6 ]\n",
            " [179.76   1.56  29.16]\n",
            " [ 14.04  44.28  54.24]\n",
            " [158.04  22.08  41.52]\n",
            " [207.    21.72  36.84]\n",
            " [102.84  42.96  59.16]\n",
            " [226.08  21.72  30.72]\n",
            " [196.2   44.16   8.88]\n",
            " [140.64  17.64   6.48]\n",
            " [281.4    4.08 101.76]\n",
            " [ 21.48  45.12  25.92]\n",
            " [248.16   6.24  23.28]\n",
            " [258.48  28.32  69.12]\n",
            " [341.16  12.72   7.68]\n",
            " [ 60.    13.92  22.08]\n",
            " [197.4   25.08  56.88]\n",
            " [ 23.52  24.12  20.4 ]\n",
            " [202.08   8.52  15.36]\n",
            " [266.88   4.08  15.72]\n",
            " [332.28  58.68  50.16]\n",
            " [298.08  36.24  24.36]\n",
            " [204.24   9.36  42.24]\n",
            " [332.04   2.76  28.44]\n",
            " [198.72  12.    21.12]\n",
            " [187.92   3.12   9.96]\n",
            " [262.2    6.48  32.88]\n",
            " [ 67.44   6.84  35.64]\n",
            " [345.12  51.6   86.16]\n",
            " [304.56  25.56  36.  ]\n",
            " [246.    54.12  23.52]\n",
            " [167.4    2.52  31.92]\n",
            " [229.32  34.44  21.84]\n",
            " [343.2   16.68   4.44]\n",
            " [ 22.44  14.52  28.08]\n",
            " [ 47.4   49.32   6.96]\n",
            " [ 90.6   12.96   7.2 ]\n",
            " [ 20.64   4.92  37.92]\n",
            " [200.16  50.4    4.32]\n",
            " [179.64  42.72   7.2 ]\n",
            " [ 45.84   4.44  16.56]\n",
            " [113.04   5.88   9.72]\n",
            " [212.4   11.16   7.68]\n",
            " [340.32  50.4   79.44]\n",
            " [278.52  10.32  10.44]]\n"
          ]
        }
      ]
    },
    {
      "cell_type": "code",
      "source": [
        "from sklearn.model_selection import train_test_split\n",
        "X_train, X_test, y_train, y_test = train_test_split(X, y, test_size = 0.2, random_state = 0)"
      ],
      "metadata": {
        "id": "4SooDzbdx2tu"
      },
      "execution_count": 4,
      "outputs": []
    },
    {
      "cell_type": "code",
      "source": [
        "from sklearn.linear_model import LinearRegression\n",
        "regressor = LinearRegression()\n",
        "regressor.fit(X_train, y_train)"
      ],
      "metadata": {
        "colab": {
          "base_uri": "https://localhost:8080/",
          "height": 74
        },
        "id": "vBQFLNOIx7ue",
        "outputId": "f055bd76-c07d-419c-f052-6a2c4a425f96"
      },
      "execution_count": 5,
      "outputs": [
        {
          "output_type": "execute_result",
          "data": {
            "text/plain": [
              "LinearRegression()"
            ],
            "text/html": [
              "<style>#sk-container-id-1 {color: black;background-color: white;}#sk-container-id-1 pre{padding: 0;}#sk-container-id-1 div.sk-toggleable {background-color: white;}#sk-container-id-1 label.sk-toggleable__label {cursor: pointer;display: block;width: 100%;margin-bottom: 0;padding: 0.3em;box-sizing: border-box;text-align: center;}#sk-container-id-1 label.sk-toggleable__label-arrow:before {content: \"▸\";float: left;margin-right: 0.25em;color: #696969;}#sk-container-id-1 label.sk-toggleable__label-arrow:hover:before {color: black;}#sk-container-id-1 div.sk-estimator:hover label.sk-toggleable__label-arrow:before {color: black;}#sk-container-id-1 div.sk-toggleable__content {max-height: 0;max-width: 0;overflow: hidden;text-align: left;background-color: #f0f8ff;}#sk-container-id-1 div.sk-toggleable__content pre {margin: 0.2em;color: black;border-radius: 0.25em;background-color: #f0f8ff;}#sk-container-id-1 input.sk-toggleable__control:checked~div.sk-toggleable__content {max-height: 200px;max-width: 100%;overflow: auto;}#sk-container-id-1 input.sk-toggleable__control:checked~label.sk-toggleable__label-arrow:before {content: \"▾\";}#sk-container-id-1 div.sk-estimator input.sk-toggleable__control:checked~label.sk-toggleable__label {background-color: #d4ebff;}#sk-container-id-1 div.sk-label input.sk-toggleable__control:checked~label.sk-toggleable__label {background-color: #d4ebff;}#sk-container-id-1 input.sk-hidden--visually {border: 0;clip: rect(1px 1px 1px 1px);clip: rect(1px, 1px, 1px, 1px);height: 1px;margin: -1px;overflow: hidden;padding: 0;position: absolute;width: 1px;}#sk-container-id-1 div.sk-estimator {font-family: monospace;background-color: #f0f8ff;border: 1px dotted black;border-radius: 0.25em;box-sizing: border-box;margin-bottom: 0.5em;}#sk-container-id-1 div.sk-estimator:hover {background-color: #d4ebff;}#sk-container-id-1 div.sk-parallel-item::after {content: \"\";width: 100%;border-bottom: 1px solid gray;flex-grow: 1;}#sk-container-id-1 div.sk-label:hover label.sk-toggleable__label {background-color: #d4ebff;}#sk-container-id-1 div.sk-serial::before {content: \"\";position: absolute;border-left: 1px solid gray;box-sizing: border-box;top: 0;bottom: 0;left: 50%;z-index: 0;}#sk-container-id-1 div.sk-serial {display: flex;flex-direction: column;align-items: center;background-color: white;padding-right: 0.2em;padding-left: 0.2em;position: relative;}#sk-container-id-1 div.sk-item {position: relative;z-index: 1;}#sk-container-id-1 div.sk-parallel {display: flex;align-items: stretch;justify-content: center;background-color: white;position: relative;}#sk-container-id-1 div.sk-item::before, #sk-container-id-1 div.sk-parallel-item::before {content: \"\";position: absolute;border-left: 1px solid gray;box-sizing: border-box;top: 0;bottom: 0;left: 50%;z-index: -1;}#sk-container-id-1 div.sk-parallel-item {display: flex;flex-direction: column;z-index: 1;position: relative;background-color: white;}#sk-container-id-1 div.sk-parallel-item:first-child::after {align-self: flex-end;width: 50%;}#sk-container-id-1 div.sk-parallel-item:last-child::after {align-self: flex-start;width: 50%;}#sk-container-id-1 div.sk-parallel-item:only-child::after {width: 0;}#sk-container-id-1 div.sk-dashed-wrapped {border: 1px dashed gray;margin: 0 0.4em 0.5em 0.4em;box-sizing: border-box;padding-bottom: 0.4em;background-color: white;}#sk-container-id-1 div.sk-label label {font-family: monospace;font-weight: bold;display: inline-block;line-height: 1.2em;}#sk-container-id-1 div.sk-label-container {text-align: center;}#sk-container-id-1 div.sk-container {/* jupyter's `normalize.less` sets `[hidden] { display: none; }` but bootstrap.min.css set `[hidden] { display: none !important; }` so we also need the `!important` here to be able to override the default hidden behavior on the sphinx rendered scikit-learn.org. See: https://github.com/scikit-learn/scikit-learn/issues/21755 */display: inline-block !important;position: relative;}#sk-container-id-1 div.sk-text-repr-fallback {display: none;}</style><div id=\"sk-container-id-1\" class=\"sk-top-container\"><div class=\"sk-text-repr-fallback\"><pre>LinearRegression()</pre><b>In a Jupyter environment, please rerun this cell to show the HTML representation or trust the notebook. <br />On GitHub, the HTML representation is unable to render, please try loading this page with nbviewer.org.</b></div><div class=\"sk-container\" hidden><div class=\"sk-item\"><div class=\"sk-estimator sk-toggleable\"><input class=\"sk-toggleable__control sk-hidden--visually\" id=\"sk-estimator-id-1\" type=\"checkbox\" checked><label for=\"sk-estimator-id-1\" class=\"sk-toggleable__label sk-toggleable__label-arrow\">LinearRegression</label><div class=\"sk-toggleable__content\"><pre>LinearRegression()</pre></div></div></div></div></div>"
            ]
          },
          "metadata": {},
          "execution_count": 5
        }
      ]
    },
    {
      "cell_type": "code",
      "source": [
        "y_pred = regressor.predict(X_test)\n",
        "np.set_printoptions(precision=2)\n",
        "print(np.concatenate((y_pred.reshape(len(y_pred),1), y_test.reshape(len(y_test),1)),1))"
      ],
      "metadata": {
        "colab": {
          "base_uri": "https://localhost:8080/"
        },
        "id": "CIKJ5pDbyBj2",
        "outputId": "444a2c02-08f4-4dba-d61a-eebf270a71ac"
      },
      "execution_count": 6,
      "outputs": [
        {
          "output_type": "stream",
          "name": "stdout",
          "text": [
            "[[17.48 16.32]\n",
            " [16.37 13.8 ]\n",
            " [23.03 23.28]\n",
            " [24.76 26.04]\n",
            " [18.44 18.72]\n",
            " [ 9.89 11.64]\n",
            " [27.58 30.48]\n",
            " [28.88 31.44]\n",
            " [23.06 23.52]\n",
            " [19.06 19.08]\n",
            " [13.22  9.6 ]\n",
            " [14.35 14.04]\n",
            " [ 9.24 11.4 ]\n",
            " [13.14  7.92]\n",
            " [10.24 11.88]\n",
            " [16.25 13.92]\n",
            " [20.01 18.84]\n",
            " [25.73 27.84]\n",
            " [12.05 13.44]\n",
            " [13.89 14.16]\n",
            " [19.72 20.28]\n",
            " [10.95 11.4 ]\n",
            " [22.23 20.88]\n",
            " [27.71 30.48]\n",
            " [20.47 20.04]\n",
            " [11.95 11.52]\n",
            " [19.47 19.92]\n",
            " [15.99 14.64]\n",
            " [23.27 24.84]\n",
            " [20.34 20.76]\n",
            " [25.56 28.44]\n",
            " [18.45 18.24]\n",
            " [ 6.66  3.84]\n",
            " [20.58 20.4 ]\n",
            " [18.95 17.64]]\n"
          ]
        }
      ]
    }
  ]
}